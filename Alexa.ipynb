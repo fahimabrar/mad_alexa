{
 "cells": [
  {
   "cell_type": "markdown",
   "metadata": {},
   "source": [
    "Required packages:\n",
    "- SpeechRecognition\n",
    "- pyttsx3\n",
    "- pyaudio\n",
    "- rotate-screen"
   ]
  },
  {
   "cell_type": "markdown",
   "metadata": {},
   "source": [
    "###### packages can be installed with the following commands, remove the # sign infront of them\n",
    "###### I have to installed pyaudio with pipwin, as pyaudio conflict with my python current version\\n\n",
    "###### You can direcly install pyaudio with pip, if it doesnot conflict"
   ]
  },
  {
   "cell_type": "code",
   "execution_count": 1,
   "metadata": {},
   "outputs": [],
   "source": [
    "#screen rotation will be stopped after "
   ]
  },
  {
   "cell_type": "code",
   "execution_count": 2,
   "metadata": {},
   "outputs": [],
   "source": [
    "#!pip install SpeechRecognition\n",
    "#!pip install pyttsx3\n",
    "#!pip install pipwin\n",
    "#!pipwin install pyaudio\n",
    "#!pip install rotate-screen"
   ]
  },
  {
   "cell_type": "code",
   "execution_count": 3,
   "metadata": {},
   "outputs": [],
   "source": [
    "import speech_recognition as sr\n",
    "#this package for converting speech to text\n",
    "import pyttsx3\n",
    "#this package for converting text to speech\n",
    "import time\n",
    "# for time sleep delay\n",
    "import rotatescreen\n",
    "# this package for rotating screen"
   ]
  },
  {
   "cell_type": "code",
   "execution_count": 4,
   "metadata": {},
   "outputs": [],
   "source": [
    "listener = sr.Recognizer()\n",
    "alexa = pyttsx3.init()\n",
    "#initializing alexa\n",
    "voices = alexa.getProperty('voices')\n",
    "#voices variable will get the list of all voices types (e:g: male, female etc.)"
   ]
  },
  {
   "cell_type": "code",
   "execution_count": 5,
   "metadata": {},
   "outputs": [],
   "source": [
    "def take_command():\n",
    "    try:\n",
    "        with sr.Microphone() as source:\n",
    "            print(\"listening....\")\n",
    "            voice = listener.listen(source)\n",
    "            command = listener.recognize_google(voice).lower()\n",
    "            #send speech to google to get the text and return the text\n",
    "            return command\n",
    "    except:\n",
    "        pass"
   ]
  },
  {
   "cell_type": "code",
   "execution_count": 9,
   "metadata": {},
   "outputs": [],
   "source": [
    "def talk():\n",
    "    command = take_command()\n",
    "    try:    \n",
    "        if 'time' in command:\n",
    "            alexa.say('I do not have any watch')\n",
    "            alexa.runAndWait()\n",
    "\n",
    "        if 'change' in command:\n",
    "            alexa.say('Oh Shit, I am changing it now')\n",
    "            time.sleep(2)\n",
    "            alexa.setProperty('voice', voices[1].id)\n",
    "            alexa.say('Is it okay, sir?')\n",
    "            alexa.runAndWait()\n",
    "            \n",
    "        if 'great' in command:\n",
    "            alexa.say('No, You made me with multiple if else')\n",
    "            time.sleep(2)\n",
    "            alexa.say('Donot tell lie')\n",
    "            alexa.runAndWait()\n",
    "            \n",
    "        if 'mad' in command:\n",
    "            alexa.say('You also make me mad too')\n",
    "            time.sleep(1)\n",
    "            alexa.say(\"Wait and see\")\n",
    "            time.sleep(2)\n",
    "            alexa.runAndWait()\n",
    "            for i in range(12):\n",
    "                time.sleep(0.5)\n",
    "                rotatescreen.get_primary_display().rotate_to(i*90 %360)\n",
    "                \n",
    "            rotatescreen.get_primary_display().rotate_to(0)\n",
    "    except:\n",
    "        pass"
   ]
  },
  {
   "cell_type": "code",
   "execution_count": null,
   "metadata": {},
   "outputs": [],
   "source": []
  },
  {
   "cell_type": "code",
   "execution_count": null,
   "metadata": {},
   "outputs": [
    {
     "name": "stdout",
     "output_type": "stream",
     "text": [
      "listening....\n",
      "listening....\n"
     ]
    }
   ],
   "source": [
    "for i in range(5):\n",
    "    talk()"
   ]
  },
  {
   "cell_type": "code",
   "execution_count": 8,
   "metadata": {},
   "outputs": [],
   "source": []
  },
  {
   "cell_type": "code",
   "execution_count": null,
   "metadata": {},
   "outputs": [],
   "source": []
  },
  {
   "cell_type": "code",
   "execution_count": null,
   "metadata": {},
   "outputs": [],
   "source": []
  },
  {
   "cell_type": "code",
   "execution_count": null,
   "metadata": {},
   "outputs": [],
   "source": []
  }
 ],
 "metadata": {
  "kernelspec": {
   "display_name": "Python 3",
   "language": "python",
   "name": "python3"
  },
  "language_info": {
   "codemirror_mode": {
    "name": "ipython",
    "version": 3
   },
   "file_extension": ".py",
   "mimetype": "text/x-python",
   "name": "python",
   "nbconvert_exporter": "python",
   "pygments_lexer": "ipython3",
   "version": "3.8.3"
  }
 },
 "nbformat": 4,
 "nbformat_minor": 4
}
